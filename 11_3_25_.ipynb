{
  "nbformat": 4,
  "nbformat_minor": 0,
  "metadata": {
    "colab": {
      "provenance": [],
      "authorship_tag": "ABX9TyML9QP8Xfgc70VDYQxSf8UQ",
      "include_colab_link": true
    },
    "kernelspec": {
      "name": "python3",
      "display_name": "Python 3"
    },
    "language_info": {
      "name": "python"
    }
  },
  "cells": [
    {
      "cell_type": "markdown",
      "metadata": {
        "id": "view-in-github",
        "colab_type": "text"
      },
      "source": [
        "<a href=\"https://colab.research.google.com/github/RamyaDobbala/ExcelR-Solutions---NLP/blob/main/11_3_25_.ipynb\" target=\"_parent\"><img src=\"https://colab.research.google.com/assets/colab-badge.svg\" alt=\"Open In Colab\"/></a>"
      ]
    },
    {
      "cell_type": "code",
      "execution_count": 1,
      "metadata": {
        "id": "zwRwUuWs9pKc"
      },
      "outputs": [],
      "source": [
        "import google.generativeai as genai\n",
        "from google.colab import userdata\n",
        "\n",
        "GOOGLE_API_KEY=userdata.get('GOOGLE_API_KEY')\n",
        "genai.configure(api_key=GOOGLE_API_KEY)\n"
      ]
    },
    {
      "cell_type": "code",
      "source": [
        "import PIL.Image\n",
        "img = PIL.Image.open('/content/Image20250311122622.jpg')\n",
        "img\n",
        "model = genai.GenerativeModel('gemini-1.5-flash')\n",
        "response = model.generate_content([\"Write a short, engaging blog post based on this picture.  It should include a description of the meal in the photo and talk about my journey meal prepping.\", img],\n",
        "stream=True)\n",
        "response.resolve()"
      ],
      "metadata": {
        "id": "Ot-3d4lp-tP2"
      },
      "execution_count": 10,
      "outputs": []
    },
    {
      "cell_type": "code",
      "source": [
        "import pathlib\n",
        "import textwrap\n",
        "from IPython.display import display, Markdown\n",
        "def to_markdown(text):\n",
        "  text = text.replace('•', '  *')\n",
        "  return Markdown(textwrap.indent(text, '> ', predicate=lambda _: True))"
      ],
      "metadata": {
        "id": "KnHfP5ZV_0DQ"
      },
      "execution_count": 11,
      "outputs": []
    },
    {
      "cell_type": "code",
      "source": [
        "to_markdown(response.text)"
      ],
      "metadata": {
        "colab": {
          "base_uri": "https://localhost:8080/",
          "height": 477
        },
        "id": "KPyv27rS_SMF",
        "outputId": "ea0f8305-d399-43c3-ade0-4e0734a4ddf4"
      },
      "execution_count": 12,
      "outputs": [
        {
          "output_type": "execute_result",
          "data": {
            "text/plain": [
              "<IPython.core.display.Markdown object>"
            ],
            "text/markdown": "> ## My Meal Prep Journey: From Chaos to Deliciously Organized!\n> \n> Look at these beauties!  These aren't just any containers; they're my lunchtime saviors – two perfectly portioned meals ready to conquer my workday hunger. Each one is a vibrant mix of fluffy white rice, tender teriyaki chicken, vibrant orange and red bell peppers, and a healthy dose of broccoli.  It’s a simple meal, but so satisfying!\n> \n> My journey to consistent meal prepping wasn't always smooth sailing.  For years, my lunches were a chaotic mix of whatever I could grab – usually something unhealthy and definitely not satisfying.  I was constantly tired, my energy levels were low, and I wasn't feeling my best.  So, I decided to make a change.\n> \n> It started small.  I’d prep one meal a week – usually something simple. Gradually, I built from there, experimenting with different recipes and techniques. I discovered the magic of portioning my meals, making healthy eating convenient.  It wasn't always easy – there were weeks with less-than-perfect results and some recipes that flopped.  But the feeling of having a healthy, delicious, and ready-to-eat lunch waiting for me each day made it all worth it.\n> \n> Now, meal prepping is a regular part of my routine, a game changer that's boosted my energy, improved my focus, and simplified my life.  These little containers aren't just lunch; they're a testament to my commitment to myself. They're a reminder that healthy eating doesn't have to be complicated – it just takes a little planning and a whole lot of delicious results!\n> \n> What are your favorite meal prep tips? Share them below!\n"
          },
          "metadata": {},
          "execution_count": 12
        }
      ]
    },
    {
      "cell_type": "code",
      "source": [
        "response = model.generate_content([\"Generate an accurate caption for this image.\", img])\n",
        "print(response.text)"
      ],
      "metadata": {
        "colab": {
          "base_uri": "https://localhost:8080/",
          "height": 342
        },
        "id": "_SVDyS_K_tOM",
        "outputId": "05c6917a-7fbb-4762-fef9-01af2ece3669"
      },
      "execution_count": 13,
      "outputs": [
        {
          "output_type": "stream",
          "name": "stdout",
          "text": [
            "Here's a caption for the image:\n",
            "\n",
            "**Option 1 (Concise):**\n",
            "\n",
            "> Healthy and delicious meal prep!  Chicken and broccoli with rice.\n",
            "\n",
            "**Option 2 (More descriptive):**\n",
            "\n",
            "> Two containers of delicious and healthy meal prep.  Each serving includes teriyaki chicken, steamed rice, broccoli florets, and sliced carrots. Perfect for a quick and nutritious lunch or dinner.\n",
            "\n",
            "**Option 3 (Focus on ease):**\n",
            "\n",
            "> Easy weeknight dinners just got easier! These prepped meals are packed with protein and veggies.\n",
            "\n",
            "\n",
            "Choose the option that best suits your needs and target audience.\n",
            "\n"
          ]
        }
      ]
    },
    {
      "cell_type": "code",
      "source": [
        "from PIL import Image\n",
        "# Open an image\n",
        "image_path = \"/content/Image 2 girl.jpg\"\n",
        "image = Image.open(image_path)\n",
        "# Generate a description of the image\n",
        "response = model.generate_content([\"Describe this image in detail.\", image])\n",
        "print(response.text)"
      ],
      "metadata": {
        "colab": {
          "base_uri": "https://localhost:8080/",
          "height": 270
        },
        "id": "xVzJWjfUCUFV",
        "outputId": "e1a8f18a-8e41-439b-df40-1aa46cad1805"
      },
      "execution_count": 15,
      "outputs": [
        {
          "output_type": "stream",
          "name": "stdout",
          "text": [
            "Here's a description of the image:\n",
            "\n",
            "Close-up view of a woman with shoulder-length, curly brown hair. \n",
            "\n",
            "\n",
            "She is smiling and gesturing with her right index finger, pointing to something off-camera, suggesting she's making a point or drawing attention to something. Her arms are crossed, but her right arm is extended to point. \n",
            "\n",
            "\n",
            "She's wearing a teal blue three-quarter sleeve top or tunic with a subtle, light gold print of small, possibly floral or paisley-like patterns. The top appears to have a simple button or closure near the neckline. \n",
            "\n",
            "\n",
            "The background is plain white, providing a clean, uncluttered backdrop that focuses attention on the woman. Her expression is friendly and approachable. The overall lighting is soft and even, with no harsh shadows. The image suggests a promotional or portrait style photograph.\n",
            "\n"
          ]
        }
      ]
    },
    {
      "cell_type": "code",
      "source": [
        "response = model.generate_content([\"What emotions can you detect in this image?\", image])\n",
        "print(response.text)"
      ],
      "metadata": {
        "colab": {
          "base_uri": "https://localhost:8080/",
          "height": 73
        },
        "id": "Wz-Q1-6NFHMh",
        "outputId": "200ba9dc-58fd-42e7-f873-604ba9fc4793"
      },
      "execution_count": 16,
      "outputs": [
        {
          "output_type": "stream",
          "name": "stdout",
          "text": [
            "The woman in the image appears to be exhibiting happiness and confidence.  Her smile and the gesture of pointing suggest she is possibly also conveying helpfulness or guidance.\n",
            "\n"
          ]
        }
      ]
    },
    {
      "cell_type": "code",
      "source": [],
      "metadata": {
        "id": "CXyvLMnHFmiA"
      },
      "execution_count": null,
      "outputs": []
    }
  ]
}