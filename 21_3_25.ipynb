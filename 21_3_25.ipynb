{
  "nbformat": 4,
  "nbformat_minor": 0,
  "metadata": {
    "colab": {
      "provenance": [],
      "authorship_tag": "ABX9TyMFwzGVe/jE3QR3hYC3kErp",
      "include_colab_link": true
    },
    "kernelspec": {
      "name": "python3",
      "display_name": "Python 3"
    },
    "language_info": {
      "name": "python"
    }
  },
  "cells": [
    {
      "cell_type": "markdown",
      "metadata": {
        "id": "view-in-github",
        "colab_type": "text"
      },
      "source": [
        "<a href=\"https://colab.research.google.com/github/RamyaDobbala/ExcelR-Solutions---NLP/blob/main/21_3_25.ipynb\" target=\"_parent\"><img src=\"https://colab.research.google.com/assets/colab-badge.svg\" alt=\"Open In Colab\"/></a>"
      ]
    },
    {
      "cell_type": "code",
      "source": [
        "!pip install boto3"
      ],
      "metadata": {
        "colab": {
          "base_uri": "https://localhost:8080/"
        },
        "id": "Cnu1_jyy5ujr",
        "outputId": "efdd2558-ffa6-4b0a-d2fc-2ef5a5e18a3b"
      },
      "execution_count": 8,
      "outputs": [
        {
          "output_type": "stream",
          "name": "stdout",
          "text": [
            "Requirement already satisfied: boto3 in /usr/local/lib/python3.11/dist-packages (1.37.17)\n",
            "Requirement already satisfied: botocore<1.38.0,>=1.37.17 in /usr/local/lib/python3.11/dist-packages (from boto3) (1.37.17)\n",
            "Requirement already satisfied: jmespath<2.0.0,>=0.7.1 in /usr/local/lib/python3.11/dist-packages (from boto3) (1.0.1)\n",
            "Requirement already satisfied: s3transfer<0.12.0,>=0.11.0 in /usr/local/lib/python3.11/dist-packages (from boto3) (0.11.4)\n",
            "Requirement already satisfied: python-dateutil<3.0.0,>=2.1 in /usr/local/lib/python3.11/dist-packages (from botocore<1.38.0,>=1.37.17->boto3) (2.8.2)\n",
            "Requirement already satisfied: urllib3!=2.2.0,<3,>=1.25.4 in /usr/local/lib/python3.11/dist-packages (from botocore<1.38.0,>=1.37.17->boto3) (2.3.0)\n",
            "Requirement already satisfied: six>=1.5 in /usr/local/lib/python3.11/dist-packages (from python-dateutil<3.0.0,>=2.1->botocore<1.38.0,>=1.37.17->boto3) (1.17.0)\n"
          ]
        }
      ]
    },
    {
      "cell_type": "code",
      "source": [
        "!pip install awscli"
      ],
      "metadata": {
        "colab": {
          "base_uri": "https://localhost:8080/"
        },
        "id": "z6Vgg1E15ylu",
        "outputId": "5f5a4c26-82f9-404f-c86b-7bfd18097408"
      },
      "execution_count": 9,
      "outputs": [
        {
          "output_type": "stream",
          "name": "stdout",
          "text": [
            "Requirement already satisfied: awscli in /usr/local/lib/python3.11/dist-packages (1.38.17)\n",
            "Requirement already satisfied: botocore==1.37.17 in /usr/local/lib/python3.11/dist-packages (from awscli) (1.37.17)\n",
            "Requirement already satisfied: docutils<0.17,>=0.10 in /usr/local/lib/python3.11/dist-packages (from awscli) (0.16)\n",
            "Requirement already satisfied: s3transfer<0.12.0,>=0.11.0 in /usr/local/lib/python3.11/dist-packages (from awscli) (0.11.4)\n",
            "Requirement already satisfied: PyYAML<6.1,>=3.10 in /usr/local/lib/python3.11/dist-packages (from awscli) (6.0.2)\n",
            "Requirement already satisfied: colorama<0.4.7,>=0.2.5 in /usr/local/lib/python3.11/dist-packages (from awscli) (0.4.6)\n",
            "Requirement already satisfied: rsa<4.8,>=3.1.2 in /usr/local/lib/python3.11/dist-packages (from awscli) (4.7.2)\n",
            "Requirement already satisfied: jmespath<2.0.0,>=0.7.1 in /usr/local/lib/python3.11/dist-packages (from botocore==1.37.17->awscli) (1.0.1)\n",
            "Requirement already satisfied: python-dateutil<3.0.0,>=2.1 in /usr/local/lib/python3.11/dist-packages (from botocore==1.37.17->awscli) (2.8.2)\n",
            "Requirement already satisfied: urllib3!=2.2.0,<3,>=1.25.4 in /usr/local/lib/python3.11/dist-packages (from botocore==1.37.17->awscli) (2.3.0)\n",
            "Requirement already satisfied: pyasn1>=0.1.3 in /usr/local/lib/python3.11/dist-packages (from rsa<4.8,>=3.1.2->awscli) (0.6.1)\n",
            "Requirement already satisfied: six>=1.5 in /usr/local/lib/python3.11/dist-packages (from python-dateutil<3.0.0,>=2.1->botocore==1.37.17->awscli) (1.17.0)\n"
          ]
        }
      ]
    },
    {
      "cell_type": "code",
      "source": [
        "import boto3\n",
        "s3 = boto3.client(\"s3\")"
      ],
      "metadata": {
        "id": "Ruzi4Mbv6O7r"
      },
      "execution_count": 10,
      "outputs": []
    },
    {
      "cell_type": "code",
      "source": [
        "bucket_name = \"mynlpmru6\"\n",
        "s3.create_bucket(\n",
        "    Bucket=bucket_name,\n",
        "    CreateBucketConfiguration={\"LocationConstraint\": \"eu-north-1\"}\n",
        ")\n",
        "print(f\"Bucket '{bucket_name}' created successfully!\")"
      ],
      "metadata": {
        "id": "YoPsrB_Ni2H5"
      },
      "execution_count": null,
      "outputs": []
    },
    {
      "cell_type": "code",
      "source": [
        "response = s3.list_buckets()\n",
        "\n",
        "\n",
        "\n",
        "print(\"Existing Buckets:\")\n",
        "\n",
        "for bucket in response[\"Buckets\"]:\n",
        "\n",
        "    print(f\"- {bucket['Name']}\")"
      ],
      "metadata": {
        "id": "tr2mYR1EcN8-"
      },
      "execution_count": null,
      "outputs": []
    },
    {
      "cell_type": "code",
      "source": [
        "# Upload a file\n",
        "\n",
        "s3.upload_file(\"test.txt\", \"mynlpmru\", \"data/testfile1.txt\")\n",
        "\n",
        "\n",
        "\n",
        "print(\"Upload complete!\")"
      ],
      "metadata": {
        "id": "t-79qB2MhfL-"
      },
      "execution_count": null,
      "outputs": []
    },
    {
      "cell_type": "code",
      "source": [
        "s3.download_file(\"mynlpmru\", \"data/testfile1.txt\", \"downloaded_test3.txt\")\n",
        "\n",
        "print(\"Download successful!\")"
      ],
      "metadata": {
        "id": "K8Xb7XUUhjDL"
      },
      "execution_count": null,
      "outputs": []
    },
    {
      "cell_type": "code",
      "source": [
        "response = s3.list_objects_v2(Bucket=\"mynlpbucket2003\")\n",
        "\n",
        "\n",
        "\n",
        "print(\"Files in bucket:\")\n",
        "\n",
        "if \"Contents\" in response:\n",
        "\n",
        "    for obj in response[\"Contents\"]:\n",
        "\n",
        "        print(f\"- {obj['Key']} (Size: {obj['Size']} bytes)\")\n",
        "\n",
        "else:\n",
        "\n",
        "    print(\"Bucket is empty.\")"
      ],
      "metadata": {
        "id": "pSnM8-_XhnLs"
      },
      "execution_count": null,
      "outputs": []
    },
    {
      "cell_type": "code",
      "source": [
        "s3.delete_object(Bucket=\"mynlpmru\", Key=\"data/testfile1.txt\")\n",
        "\n",
        "print(\"File deleted successfully!\")"
      ],
      "metadata": {
        "id": "ozl9_qJehqoS"
      },
      "execution_count": null,
      "outputs": []
    },
    {
      "cell_type": "code",
      "source": [
        "copy_source = {\"Bucket\": \"mynlpmru\", \"Key\": \"data/testfile.txt\"}\n",
        "\n",
        "s3.copy_object(CopySource=copy_source, Bucket=\"mynlpmru\", Key=\"data/copied_testfile3.txt\")\n",
        "\n",
        "print(\"File copied successfully.\")"
      ],
      "metadata": {
        "id": "mB1-bksFivqc"
      },
      "execution_count": null,
      "outputs": []
    }
  ]
}